{
  "nbformat": 4,
  "nbformat_minor": 0,
  "metadata": {
    "colab": {
      "name": "AutoRclone_Unlimited_Transfer_(Google_Drive_&_Shared_Drive) BoostUpStation.ipynb",
      "provenance": [],
      "collapsed_sections": [],
      "toc_visible": true
    },
    "kernelspec": {
      "name": "python3",
      "display_name": "Python 3"
    }
  },
  "cells": [
    {
      "cell_type": "markdown",
      "metadata": {
        "id": "B5ssDEUtf2RD"
      },
      "source": [
        "### <font size=6px color=\"red\">✦ Video Guide for this Notebook : <a href=\"https://www.youtube.com/watch?v=sxMAewb3QCA\" target=\"_blank\">Video Guide</a></font>\n",
        "# 30 Minutes Full Video solving all your problems </font>\n",
        "# Watch it completely before asking anything\n"
      ]
    },
    {
      "cell_type": "markdown",
      "metadata": {
        "id": "Cqy3vXXOMI06"
      },
      "source": [
        "### <font size=5px color=\"red\">✦ Auto-Reconnect Google Colab :</font>\n",
        "\n",
        "Open the Browser Console, paste the code below and press Enter.\n",
        "\n",
        "<b> Don't close the browser to avoid failure! </b>"
      ]
    },
    {
      "cell_type": "markdown",
      "metadata": {
        "id": "3Z8cK8h2Avbv"
      },
      "source": [
        "<code>function ClickConnect(){\n",
        "console.log(\"Working\"); \n",
        "document.querySelector(\"colab-connect-button\").click() \n",
        "}setInterval(ClickConnect,6000)</code>"
      ]
    },
    {
      "cell_type": "code",
      "metadata": {
        "id": "jtClEMAMLVHw",
        "cellView": "form"
      },
      "source": [
        "#@markdown <h3>← 0th Step. Run after entering the above code in your browser console (to prevent disconnection). </h>\n",
        "\n",
        "\n",
        "import IPython\n",
        "from google.colab import output\n",
        "\n",
        "display(IPython.display.Javascript('''\n",
        " function ClickConnect(){\n",
        "   btn = document.querySelector(\"colab-connect-button\")\n",
        "   if (btn != null){\n",
        "     console.log(\"Click colab-connect-button\"); \n",
        "     btn.click() \n",
        "     }\n",
        "   \n",
        "   btn = document.getElementById('ok')\n",
        "   if (btn != null){\n",
        "     console.log(\"Click reconnect\"); \n",
        "     btn.click() \n",
        "     }\n",
        "  }\n",
        "  \n",
        "setInterval(ClickConnect,60000)\n",
        "'''))\n",
        "\n",
        "print(\"Done.\")"
      ],
      "execution_count": null,
      "outputs": []
    },
    {
      "cell_type": "markdown",
      "metadata": {
        "id": "nnK31oX-jC5p"
      },
      "source": [
        "### <img src='https://rclone.org/img/rclone-32x32.png' height=\"46\" alt=\"rclone\"/>__Autorclone__\n",
        "<font size=5px><b> ✧  Breaking Google Drive 750GB transfer limit </h6>\n"
      ]
    },
    {
      "cell_type": "code",
      "metadata": {
        "id": "W61wx2ZLjC52",
        "cellView": "form"
      },
      "source": [
        "#@markdown <h3><b>←</b> 1st step. Install rclone configuration environment</h3>\n",
        "\n",
        "!curl https://rclone.org/install.sh | sudo bash\n",
        "###\n",
        "%cd /content/\n",
        "!git clone https://github.com/totalleecher/AutoRclone.git\n",
        "###\n",
        "%cd /content/AutoRclone\n",
        "!sudo pip3 install -r requirements.txt\n",
        "\n",
        "from IPython.display import HTML, clear_output\n",
        "clear_output()\n",
        "print(\"Successfully Installed\")"
      ],
      "execution_count": null,
      "outputs": []
    },
    {
      "cell_type": "code",
      "metadata": {
        "id": "XbcSRo0RjC6P",
        "cellView": "form"
      },
      "source": [
        "#@markdown <h3><b>←</b>2nd step. Start Drive Api & download credentials.json to your Android Device OR Laptop/Computer</h3>\n",
        "!python3 gen_sa_accounts.py --quick-setup -1\n",
        "\n",
        "from IPython.display import Image, display\n",
        "display(Image(url = \" https://raw.githubusercontent.com/totalleecher/Codemaster/master/Screenshot_2020-03-24%20Python%20Quickstart%20Google%20Drive%20API%20Google%20Developers.png\"))"
      ],
      "execution_count": null,
      "outputs": []
    },
    {
      "cell_type": "code",
      "metadata": {
        "id": "N8fETzRpjC6s",
        "cellView": "form"
      },
      "source": [
        "#@markdown <h3><b>←</b>3rd step. Upload the \"credentials.json\" just downloaded</h3>\n",
        "#@markdown <h3> Rename downloaded file to \"credentials.json\" before uploading here, else you have to upload it again afterwards</h3>\n",
        "\n",
        "from google.colab import files\n",
        "uploaded = files.upload()"
      ],
      "execution_count": null,
      "outputs": []
    },
    {
      "cell_type": "markdown",
      "metadata": {
        "id": "vGIC3QKIIpfb"
      },
      "source": [
        "<font size=\"4\" color=red><b>If you do not have any project. Click here to open <a href=\"https://console.developers.google.com/\" target=\"_blank\">Google Cloud Platform</a> ，In the upper left corner  GoogleAPIs Side press \"Select a project\" Press in the upper right corner of the pop-up window \"NEW PROJECT\". Then press \"CREATE\". Run the fourth step back。</b></font>"
      ]
    },
    {
      "cell_type": "code",
      "metadata": {
        "id": "LMoXkToAjC69",
        "cellView": "form"
      },
      "source": [
        "#@markdown <h3><b>←</b>4th step. Generate Service Accounts (SA) on existing projects \"If you already have SA, you can skip\"</h3>\n",
        "\n",
        "!python3 gen_sa_accounts.py --quick-setup -1"
      ],
      "execution_count": null,
      "outputs": []
    },
    {
      "cell_type": "markdown",
      "metadata": {
        "id": "eplOxOmrjC7R"
      },
      "source": [
        "### Method1 (Put Service_Accounts(SA) to **Team Drive**)\n",
        "### <font size=5px color=\"red\">✦ Only if Destination is Team Drive OR Shared Drive) :</font>"
      ]
    },
    {
      "cell_type": "code",
      "metadata": {
        "id": "_-MmxPYFjC7W",
        "cellView": "form"
      },
      "source": [
        "#@markdown <h3><b>← Run. Put all SA Accounts to Team Drive</b></h3>\n",
        "#@markdown </h5>Team Drive ID (TDid) = https://drive.google.com/drive/folders/All the letters after. Please be patient just incase SA will consume a little time </b></h5> \n",
        "import os\n",
        "TDid = \"Uk9PVA0AWNPYAWm1rKP\" #@param {type:\"string\"}\n",
        "!python3 add_to_team_drive.py -d \"$TDid\""
      ],
      "execution_count": null,
      "outputs": []
    },
    {
      "cell_type": "markdown",
      "metadata": {
        "id": "XCiA0yRMxM5T"
      },
      "source": [
        "### **<font size=5px color=bule><<<<<<<<<<<<<<<<<<<< Ready to start copying >>>>>>>>>>>>>>>>>>>>**"
      ]
    },
    {
      "cell_type": "code",
      "metadata": {
        "id": "A7NyZzHSdUD6"
      },
      "source": [
        ""
      ],
      "execution_count": null,
      "outputs": []
    },
    {
      "cell_type": "code",
      "metadata": {
        "id": "ItewOXbSjC7r",
        "cellView": "form"
      },
      "source": [
        "#@markdown <p>- <b>character ID （Shared resources） And the exported folder ID （一It's usually your own team）</p>\n",
        "#@markdown <p>- Note: Your source file ID *** * (* `src` *) * *** folder or file to be shared publicly* ***</p>\n",
        "\n",
        "#@markdown <b>- The shared folder ID is as shown in the figure below: the characters behind folder /: just the characters behind the stickers</b>\n",
        "#@markdown ![](https://yuju.pw/y/qNvy.png)\n",
        "\n",
        "#@title <h3><b>←</b> Run to clone all folders + files from <code>src</code> to <code>dest</code>\n",
        "\n",
        "source = \"VA0ANGhoYUk9P4XtN1O\" #@param {type:\"string\"}\n",
        "destination = \"cgeGURkq18Eh-5EkRqxs4CaTc-3ZjhufV\" #@param {type:\"string\"}\n",
        "sa = \"1\" #@param {type:\"string\"}\n",
        "\n",
        "!python3 rclone_sa_magic.py -s \"$source\" -d \"$destination\" -b \"$sa\" -e 600\n",
        "\n",
        "#@markdown <b>- SA starts at default 1. If you have copied 7.5T, then you should put 11 SA 750GB in 24 hours.\n",
        "\n"
      ],
      "execution_count": null,
      "outputs": []
    },
    {
      "cell_type": "code",
      "metadata": {
        "id": "XWWAn0uujC8j",
        "cellView": "form"
      },
      "source": [
        "#@markdown <font size=5px color=\"red\"><b>←</b> ✦ Check Source Location \"Folder size\" to be copied to destination</font>\n",
        "\n",
        "#@markdown <font size=4.5px>Run above shell for 20 seconds, then stop it\n",
        "\n",
        "#@markdown Now run this shell to get the size of folder to be copied\n",
        "\n",
        "#@markdown And after that run above shell to copy the data\n",
        "\n",
        "#@markdown Number of SA = (Total Size) / 750 </font>\n",
        "\n",
        "#@markdown So, increment SA by 1 after every 750GB data has been copied </font>\n",
        "\n",
        "#@markdown It will throw some error after copying 750GB data to let you know </font>\n",
        "\n",
        "!rclone --config rclone.conf size --disable ListR src001:"
      ],
      "execution_count": null,
      "outputs": []
    }
  ]
}